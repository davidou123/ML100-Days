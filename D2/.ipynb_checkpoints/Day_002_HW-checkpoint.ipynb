{
 "cells": [
  {
   "cell_type": "markdown",
   "metadata": {},
   "source": [
    "## 練習時間\n",
    "資料的操作有很多，接下來的馬拉松中我們會介紹常被使用到的操作，參加者不妨先自行想像一下，第一次看到資料，我們一般會想知道什麼訊息？\n",
    "\n",
    "#### Ex: 如何知道資料的 row 數以及 column 數、有什麼欄位、多少欄位、如何截取部分的資料等等\n",
    "\n",
    "有了對資料的好奇之後，我們又怎麼通過程式碼來達成我們的目的呢？\n",
    "\n",
    "#### 可參考該[基礎教材](https://bookdata.readthedocs.io/en/latest/base/01_pandas.html#DataFrame-%E5%85%A5%E9%97%A8)或自行 google"
   ]
  },
  {
   "cell_type": "code",
   "execution_count": 61,
   "metadata": {},
   "outputs": [],
   "source": [
    "import os\n",
    "import numpy as np\n",
    "import pandas as pd"
   ]
  },
  {
   "cell_type": "code",
   "execution_count": 62,
   "metadata": {},
   "outputs": [],
   "source": [
    "# 設定 data_path\n",
    "dir_data = r'C:\\Users\\newuser\\Downloads\\Part01\\Part01'\n",
    "#data來源 https://www.kaggle.com/cityofLA/los-angeles-international-airport-data/version/82#los-angeles-international-airport-air-cargo-volume.csv"
   ]
  },
  {
   "cell_type": "code",
   "execution_count": 63,
   "metadata": {},
   "outputs": [
    {
     "name": "stdout",
     "output_type": "stream",
     "text": [
      "Path of read in data: C:\\Users\\newuser\\Downloads\\Part01\\Part01\\application_train.csv\n"
     ]
    }
   ],
   "source": [
    "f_app = os.path.join(dir_data, 'application_train.csv')\n",
    "print('Path of read in data: %s' % (f_app))\n",
    "app_train = pd.read_csv(f_app)"
   ]
  },
  {
   "cell_type": "markdown",
   "metadata": {},
   "source": [
    "### 如果沒有想法，可以先嘗試找出剛剛例子中提到的問題的答案\n",
    "#### 資料的 row 數以及 column 數"
   ]
  },
  {
   "cell_type": "code",
   "execution_count": 64,
   "metadata": {},
   "outputs": [
    {
     "data": {
      "text/plain": [
       "(1240, 6)"
      ]
     },
     "execution_count": 64,
     "metadata": {},
     "output_type": "execute_result"
    }
   ],
   "source": [
    "app_train.shape"
   ]
  },
  {
   "cell_type": "markdown",
   "metadata": {},
   "source": [
    "#### 列出所有欄位"
   ]
  },
  {
   "cell_type": "code",
   "execution_count": 65,
   "metadata": {},
   "outputs": [
    {
     "data": {
      "text/plain": [
       "['DataExtractDate',\n",
       " 'ReportPeriod',\n",
       " 'Arrival_Departure',\n",
       " 'Domestic_International',\n",
       " 'CargoType',\n",
       " 'AirCargoTons']"
      ]
     },
     "execution_count": 65,
     "metadata": {},
     "output_type": "execute_result"
    }
   ],
   "source": [
    "list(app_train)\n"
   ]
  },
  {
   "cell_type": "markdown",
   "metadata": {},
   "source": [
    "#### 截取部分資料"
   ]
  },
  {
   "cell_type": "code",
   "execution_count": 66,
   "metadata": {},
   "outputs": [
    {
     "data": {
      "text/html": [
       "<div>\n",
       "<style scoped>\n",
       "    .dataframe tbody tr th:only-of-type {\n",
       "        vertical-align: middle;\n",
       "    }\n",
       "\n",
       "    .dataframe tbody tr th {\n",
       "        vertical-align: top;\n",
       "    }\n",
       "\n",
       "    .dataframe thead th {\n",
       "        text-align: right;\n",
       "    }\n",
       "</style>\n",
       "<table border=\"1\" class=\"dataframe\">\n",
       "  <thead>\n",
       "    <tr style=\"text-align: right;\">\n",
       "      <th></th>\n",
       "      <th>DataExtractDate</th>\n",
       "      <th>ReportPeriod</th>\n",
       "      <th>Arrival_Departure</th>\n",
       "      <th>Domestic_International</th>\n",
       "      <th>CargoType</th>\n",
       "      <th>AirCargoTons</th>\n",
       "    </tr>\n",
       "  </thead>\n",
       "  <tbody>\n",
       "    <tr>\n",
       "      <th>0</th>\n",
       "      <td>2014-05-01T00:00:00</td>\n",
       "      <td>2006-01-01T00:00:00</td>\n",
       "      <td>Arrival</td>\n",
       "      <td>Domestic</td>\n",
       "      <td>Freight</td>\n",
       "      <td>35703</td>\n",
       "    </tr>\n",
       "    <tr>\n",
       "      <th>1</th>\n",
       "      <td>2014-05-01T00:00:00</td>\n",
       "      <td>2006-01-01T00:00:00</td>\n",
       "      <td>Arrival</td>\n",
       "      <td>Domestic</td>\n",
       "      <td>Mail</td>\n",
       "      <td>3209</td>\n",
       "    </tr>\n",
       "    <tr>\n",
       "      <th>2</th>\n",
       "      <td>2014-05-01T00:00:00</td>\n",
       "      <td>2006-01-01T00:00:00</td>\n",
       "      <td>Arrival</td>\n",
       "      <td>International</td>\n",
       "      <td>Freight</td>\n",
       "      <td>46391</td>\n",
       "    </tr>\n",
       "    <tr>\n",
       "      <th>3</th>\n",
       "      <td>2014-05-01T00:00:00</td>\n",
       "      <td>2006-01-01T00:00:00</td>\n",
       "      <td>Arrival</td>\n",
       "      <td>International</td>\n",
       "      <td>Mail</td>\n",
       "      <td>548</td>\n",
       "    </tr>\n",
       "    <tr>\n",
       "      <th>4</th>\n",
       "      <td>2014-05-01T00:00:00</td>\n",
       "      <td>2006-01-01T00:00:00</td>\n",
       "      <td>Departure</td>\n",
       "      <td>Domestic</td>\n",
       "      <td>Freight</td>\n",
       "      <td>36702</td>\n",
       "    </tr>\n",
       "  </tbody>\n",
       "</table>\n",
       "</div>"
      ],
      "text/plain": [
       "       DataExtractDate         ReportPeriod Arrival_Departure  \\\n",
       "0  2014-05-01T00:00:00  2006-01-01T00:00:00           Arrival   \n",
       "1  2014-05-01T00:00:00  2006-01-01T00:00:00           Arrival   \n",
       "2  2014-05-01T00:00:00  2006-01-01T00:00:00           Arrival   \n",
       "3  2014-05-01T00:00:00  2006-01-01T00:00:00           Arrival   \n",
       "4  2014-05-01T00:00:00  2006-01-01T00:00:00         Departure   \n",
       "\n",
       "  Domestic_International CargoType  AirCargoTons  \n",
       "0               Domestic   Freight         35703  \n",
       "1               Domestic      Mail          3209  \n",
       "2          International   Freight         46391  \n",
       "3          International      Mail           548  \n",
       "4               Domestic   Freight         36702  "
      ]
     },
     "execution_count": 66,
     "metadata": {},
     "output_type": "execute_result"
    }
   ],
   "source": [
    "app_train.head()"
   ]
  },
  {
   "cell_type": "markdown",
   "metadata": {},
   "source": [
    "#### 還有各種數之不盡的資料操作，重點還是取決於實務中遇到的狀況和你想問的問題，在馬拉松中我們也會陸續提到更多例子"
   ]
  },
  {
   "cell_type": "code",
   "execution_count": 67,
   "metadata": {},
   "outputs": [
    {
     "data": {
      "text/html": [
       "<div>\n",
       "<style scoped>\n",
       "    .dataframe tbody tr th:only-of-type {\n",
       "        vertical-align: middle;\n",
       "    }\n",
       "\n",
       "    .dataframe tbody tr th {\n",
       "        vertical-align: top;\n",
       "    }\n",
       "\n",
       "    .dataframe thead th {\n",
       "        text-align: right;\n",
       "    }\n",
       "</style>\n",
       "<table border=\"1\" class=\"dataframe\">\n",
       "  <thead>\n",
       "    <tr style=\"text-align: right;\">\n",
       "      <th></th>\n",
       "      <th>DataExtractDate</th>\n",
       "      <th>ReportPeriod</th>\n",
       "      <th>Arrival_Departure</th>\n",
       "      <th>Domestic_International</th>\n",
       "      <th>CargoType</th>\n",
       "      <th>AirCargoTons</th>\n",
       "    </tr>\n",
       "  </thead>\n",
       "  <tbody>\n",
       "    <tr>\n",
       "      <th>2</th>\n",
       "      <td>2014-05-01T00:00:00</td>\n",
       "      <td>2006-01-01T00:00:00</td>\n",
       "      <td>Arrival</td>\n",
       "      <td>International</td>\n",
       "      <td>Freight</td>\n",
       "      <td>46391</td>\n",
       "    </tr>\n",
       "    <tr>\n",
       "      <th>3</th>\n",
       "      <td>2014-05-01T00:00:00</td>\n",
       "      <td>2006-01-01T00:00:00</td>\n",
       "      <td>Arrival</td>\n",
       "      <td>International</td>\n",
       "      <td>Mail</td>\n",
       "      <td>548</td>\n",
       "    </tr>\n",
       "    <tr>\n",
       "      <th>4</th>\n",
       "      <td>2014-05-01T00:00:00</td>\n",
       "      <td>2006-01-01T00:00:00</td>\n",
       "      <td>Departure</td>\n",
       "      <td>Domestic</td>\n",
       "      <td>Freight</td>\n",
       "      <td>36702</td>\n",
       "    </tr>\n",
       "    <tr>\n",
       "      <th>5</th>\n",
       "      <td>2014-05-01T00:00:00</td>\n",
       "      <td>2006-01-01T00:00:00</td>\n",
       "      <td>Departure</td>\n",
       "      <td>Domestic</td>\n",
       "      <td>Mail</td>\n",
       "      <td>2845</td>\n",
       "    </tr>\n",
       "  </tbody>\n",
       "</table>\n",
       "</div>"
      ],
      "text/plain": [
       "       DataExtractDate         ReportPeriod Arrival_Departure  \\\n",
       "2  2014-05-01T00:00:00  2006-01-01T00:00:00           Arrival   \n",
       "3  2014-05-01T00:00:00  2006-01-01T00:00:00           Arrival   \n",
       "4  2014-05-01T00:00:00  2006-01-01T00:00:00         Departure   \n",
       "5  2014-05-01T00:00:00  2006-01-01T00:00:00         Departure   \n",
       "\n",
       "  Domestic_International CargoType  AirCargoTons  \n",
       "2          International   Freight         46391  \n",
       "3          International      Mail           548  \n",
       "4               Domestic   Freight         36702  \n",
       "5               Domestic      Mail          2845  "
      ]
     },
     "execution_count": 67,
     "metadata": {},
     "output_type": "execute_result"
    }
   ],
   "source": [
    "app_train.loc[2:5]"
   ]
  },
  {
   "cell_type": "code",
   "execution_count": null,
   "metadata": {},
   "outputs": [],
   "source": []
  }
 ],
 "metadata": {
  "kernelspec": {
   "display_name": "Python 3",
   "language": "python",
   "name": "python3"
  },
  "language_info": {
   "codemirror_mode": {
    "name": "ipython",
    "version": 3
   },
   "file_extension": ".py",
   "mimetype": "text/x-python",
   "name": "python",
   "nbconvert_exporter": "python",
   "pygments_lexer": "ipython3",
   "version": "3.7.0"
  }
 },
 "nbformat": 4,
 "nbformat_minor": 2
}
